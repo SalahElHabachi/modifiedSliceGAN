{
 "cells": [
  {
   "cell_type": "code",
   "execution_count": 19,
   "metadata": {},
   "outputs": [
    {
     "name": "stdout",
     "output_type": "stream",
     "text": [
      "La forme de l'image est : (252, 252)\n",
      "les valeurs unique de ça c'est : [  0 128 255]\n",
      "==================\n",
      " [[[255 255   0 ... 255 255 255]\n",
      "  [255   0   0 ... 255 255 128]\n",
      "  [255   0   0 ... 128 128 128]\n",
      "  ...\n",
      "  [128 128 128 ... 128 128 128]\n",
      "  [128 128 128 ... 128 128 128]\n",
      "  [128 128 128 ... 128 128 128]]\n",
      "\n",
      " [[255 255 255 ... 255 255 255]\n",
      "  [  0 255 255 ... 128 128 128]\n",
      "  [255   0   0 ... 128 128 128]\n",
      "  ...\n",
      "  [128 128 128 ... 128 128 128]\n",
      "  [128 128 128 ... 128 128 128]\n",
      "  [128 128 128 ... 128 128 128]]\n",
      "\n",
      " [[  0   0 255 ... 128 128 128]\n",
      "  [  0   0   0 ... 128 128 128]\n",
      "  [255 255   0 ... 128 128 128]\n",
      "  ...\n",
      "  [128 128 128 ... 128 128 128]\n",
      "  [128 128 128 ... 128 128 128]\n",
      "  [128 128 128 ... 128 128 128]]\n",
      "\n",
      " ...\n",
      "\n",
      " [[  0   0   0 ... 255   0   0]\n",
      "  [255   0   0 ...   0 128 128]\n",
      "  [255   0   0 ... 255 128 128]\n",
      "  ...\n",
      "  [128 128 128 ...   0 255   0]\n",
      "  [128 128 128 ... 255 255 255]\n",
      "  [128 128 255 ... 255 255 255]]\n",
      "\n",
      " [[  0   0   0 ...   0 128 128]\n",
      "  [  0   0   0 ...   0 128 128]\n",
      "  [  0   0   0 ... 128 128 128]\n",
      "  ...\n",
      "  [128 128 128 ... 255 255 255]\n",
      "  [128 128 128 ... 255 255 255]\n",
      "  [  0 255 255 ... 255 255 255]]\n",
      "\n",
      " [[  0 255 255 ... 128 128 128]\n",
      "  [  0   0 255 ... 128 128 128]\n",
      "  [  0   0   0 ... 128 128 128]\n",
      "  ...\n",
      "  [128 128 128 ... 255 255 255]\n",
      "  [  0 128 128 ... 255 255 255]\n",
      "  [  0 255 255 ... 255 255 255]]]\n"
     ]
    }
   ],
   "source": [
    "import tifffile\n",
    "import numpy as np \n",
    "import matplotlib.pyplot as plt\n",
    "# Ouvrir l'image TIFF\n",
    "image = tifffile.imread('Examples/NMC.tif')\n",
    "im0=image[:,:,0]\n",
    "shape0=im0.shape\n",
    "# Obtenir la forme de l'image\n",
    "shape = image.shape\n",
    "print(f\"La forme de l'image est : {shape0}\")\n",
    "print(f\"les valeurs unique de ça c'est : {np.unique(im0)}\")\n",
    "print(\"==================\\n\",image)\n"
   ]
  }
 ],
 "metadata": {
  "kernelspec": {
   "display_name": "parano",
   "language": "python",
   "name": "python3"
  },
  "language_info": {
   "codemirror_mode": {
    "name": "ipython",
    "version": 3
   },
   "file_extension": ".py",
   "mimetype": "text/x-python",
   "name": "python",
   "nbconvert_exporter": "python",
   "pygments_lexer": "ipython3",
   "version": "3.10.13"
  }
 },
 "nbformat": 4,
 "nbformat_minor": 2
}
